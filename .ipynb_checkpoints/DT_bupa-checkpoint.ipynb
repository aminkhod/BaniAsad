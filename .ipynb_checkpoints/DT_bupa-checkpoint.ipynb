{
 "cells": [
  {
   "cell_type": "code",
   "execution_count": 6,
   "metadata": {},
   "outputs": [],
   "source": [
    "import numpy as np\n",
    "import pandas as pd\n",
    "import matplotlib.pyplot as plt\n",
    "import matplotlib\n",
    "from sklearn.model_selection import train_test_split\n",
    "from sklearn import metrics\n",
    "from sklearn import tree\n",
    "from sklearn.ensemble import ExtraTreesClassifier\n",
    "import seaborn as sn\n",
    "import confusion_matrix_pretty_print\n",
    "from confusion_matrix_pretty_print import plot_confusion_matrix_from_data"
   ]
  },
  {
   "cell_type": "code",
   "execution_count": 7,
   "metadata": {},
   "outputs": [],
   "source": [
    "df = pd.read_csv('result of bupa clustering.csv')\n"
   ]
  },
  {
   "cell_type": "code",
   "execution_count": 8,
   "metadata": {},
   "outputs": [
    {
     "data": {
      "text/html": [
       "<div>\n",
       "<style scoped>\n",
       "    .dataframe tbody tr th:only-of-type {\n",
       "        vertical-align: middle;\n",
       "    }\n",
       "\n",
       "    .dataframe tbody tr th {\n",
       "        vertical-align: top;\n",
       "    }\n",
       "\n",
       "    .dataframe thead th {\n",
       "        text-align: right;\n",
       "    }\n",
       "</style>\n",
       "<table border=\"1\" class=\"dataframe\">\n",
       "  <thead>\n",
       "    <tr style=\"text-align: right;\">\n",
       "      <th></th>\n",
       "      <th>mcv</th>\n",
       "      <th>alkphos</th>\n",
       "      <th>sgpt</th>\n",
       "      <th>sgot</th>\n",
       "      <th>gammagt</th>\n",
       "      <th>drinks</th>\n",
       "      <th>selector</th>\n",
       "      <th>Kmeans_labels</th>\n",
       "      <th>cure_labels</th>\n",
       "      <th>Birch_labels</th>\n",
       "    </tr>\n",
       "  </thead>\n",
       "  <tbody>\n",
       "    <tr>\n",
       "      <th>0</th>\n",
       "      <td>85</td>\n",
       "      <td>92</td>\n",
       "      <td>45</td>\n",
       "      <td>27</td>\n",
       "      <td>31</td>\n",
       "      <td>0.0</td>\n",
       "      <td>1</td>\n",
       "      <td>2</td>\n",
       "      <td>3</td>\n",
       "      <td>3</td>\n",
       "    </tr>\n",
       "    <tr>\n",
       "      <th>1</th>\n",
       "      <td>85</td>\n",
       "      <td>64</td>\n",
       "      <td>59</td>\n",
       "      <td>32</td>\n",
       "      <td>23</td>\n",
       "      <td>0.0</td>\n",
       "      <td>2</td>\n",
       "      <td>0</td>\n",
       "      <td>3</td>\n",
       "      <td>1</td>\n",
       "    </tr>\n",
       "    <tr>\n",
       "      <th>2</th>\n",
       "      <td>86</td>\n",
       "      <td>54</td>\n",
       "      <td>33</td>\n",
       "      <td>16</td>\n",
       "      <td>54</td>\n",
       "      <td>0.0</td>\n",
       "      <td>2</td>\n",
       "      <td>0</td>\n",
       "      <td>3</td>\n",
       "      <td>1</td>\n",
       "    </tr>\n",
       "    <tr>\n",
       "      <th>3</th>\n",
       "      <td>91</td>\n",
       "      <td>78</td>\n",
       "      <td>34</td>\n",
       "      <td>24</td>\n",
       "      <td>36</td>\n",
       "      <td>0.0</td>\n",
       "      <td>2</td>\n",
       "      <td>2</td>\n",
       "      <td>3</td>\n",
       "      <td>1</td>\n",
       "    </tr>\n",
       "    <tr>\n",
       "      <th>4</th>\n",
       "      <td>87</td>\n",
       "      <td>70</td>\n",
       "      <td>12</td>\n",
       "      <td>28</td>\n",
       "      <td>10</td>\n",
       "      <td>0.0</td>\n",
       "      <td>2</td>\n",
       "      <td>0</td>\n",
       "      <td>3</td>\n",
       "      <td>1</td>\n",
       "    </tr>\n",
       "  </tbody>\n",
       "</table>\n",
       "</div>"
      ],
      "text/plain": [
       "   mcv  alkphos  sgpt  sgot  gammagt  drinks  selector  Kmeans_labels  \\\n",
       "0   85       92    45    27       31     0.0         1              2   \n",
       "1   85       64    59    32       23     0.0         2              0   \n",
       "2   86       54    33    16       54     0.0         2              0   \n",
       "3   91       78    34    24       36     0.0         2              2   \n",
       "4   87       70    12    28       10     0.0         2              0   \n",
       "\n",
       "   cure_labels  Birch_labels  \n",
       "0            3             3  \n",
       "1            3             1  \n",
       "2            3             1  \n",
       "3            3             1  \n",
       "4            3             1  "
      ]
     },
     "execution_count": 8,
     "metadata": {},
     "output_type": "execute_result"
    }
   ],
   "source": [
    "df.head()"
   ]
  },
  {
   "cell_type": "code",
   "execution_count": 22,
   "metadata": {},
   "outputs": [
    {
     "data": {
      "text/plain": [
       "(345, 7)"
      ]
     },
     "execution_count": 22,
     "metadata": {},
     "output_type": "execute_result"
    }
   ],
   "source": [
    "y = df.iloc[:,9]\n",
    "X = df.iloc[:,:7]\n",
    "X.shape"
   ]
  },
  {
   "cell_type": "code",
   "execution_count": 23,
   "metadata": {},
   "outputs": [],
   "source": [
    "###### Devide data to test and train\n",
    "from sklearn.model_selection import train_test_split\n",
    "X_train,X_test,y_train,y_test=train_test_split(X,y,test_size=0.2,random_state=0)\n"
   ]
  },
  {
   "cell_type": "code",
   "execution_count": 24,
   "metadata": {},
   "outputs": [
    {
     "name": "stdout",
     "output_type": "stream",
     "text": [
      "[[11  0  1  0]\n",
      " [ 0 46  0  0]\n",
      " [ 0  0  1  0]\n",
      " [ 2  0  0  8]]\n",
      "(69,) (69,)\n"
     ]
    },
    {
     "data": {
      "image/png": "[encoded data removed]",
      "text/plain": [
       "<Figure size 648x648 with 1 Axes>"
      ]
     },
     "metadata": {
      "needs_background": "light"
     },
     "output_type": "display_data"
    },
    {
     "name": "stdout",
     "output_type": "stream",
     "text": [
      "Accuracy: 0.9565217391304348\n",
      "classification error is : 0.043478260869565216\n"
     ]
    }
   ],
   "source": [
    "######## Decision Tree ########\n",
    "### tree based methods for classification\n",
    "# criterion = 'gini' or 'entropy'\n",
    "tree_classifier = tree.DecisionTreeClassifier(criterion='entropy', max_depth=5)\n",
    "tree_model = tree_classifier.fit(X_train, y_train)\n",
    "predict = tree_model.predict(X_test)\n",
    "\n",
    "# import graphviz\n",
    "# dot_data = tree.export_graphviz(tree_model, out_file=None)\n",
    "# graph = graphviz.Source(dot_data)\n",
    "# graph.render(\"Autism\",view=True)\n",
    "names = list(df)\n",
    "class_names = ['0', '1', '2', '3']\n",
    "\n",
    "from IPython.display import Image\n",
    "import pydotplus\n",
    "#graphviz==> https://graphviz.gitlab.io/_pages/Download/Download_windows.html\n",
    "\n",
    "dot_data = tree.export_graphviz(tree_classifier , out_file=None,\n",
    "                                feature_names=names[:-3],\n",
    "                                class_names=class_names)\n",
    "graph = pydotplus.graph_from_dot_data(dot_data)\n",
    "\n",
    "# Show graph\n",
    "Image(graph.create_png())\n",
    "\n",
    "# Create pdf\n",
    "graph.write_pdf(\"DT_bupa.pdf\")\n",
    "\n",
    "# Create PNG\n",
    "graph.write_png(\"DT_bupa.png\")\n",
    "\n",
    "\n",
    "####Confusion matrix\n",
    "cnf_matrix = metrics.confusion_matrix(predict,y_test )\n",
    "print(cnf_matrix)\n",
    "print(predict.shape,y_test.shape)\n",
    "\n",
    "# plt.show()\n",
    "plot_confusion_matrix_from_data(predict,y_test)\n",
    "\n",
    "###Metrics\n",
    "print(\"Accuracy:\",metrics.accuracy_score(y_test, predict))\n",
    "print( \"classification error is :\", np.sum(predict != y_test) / len(y_test) )\n",
    "# print(\"Precision:\",metrics.precision_score(y_test, predict))\n",
    "# print(\"Recall:\",metrics.recall_score(y_test, predict))\n",
    "# print(\"F_measure:\",metrics.f1_score(y_test, predict))\n"
   ]
  },
  {
   "cell_type": "code",
   "execution_count": 18,
   "metadata": {},
   "outputs": [
    {
     "name": "stderr",
     "output_type": "stream",
     "text": [
      "c:\\program files\\python36\\lib\\site-packages\\sklearn\\ensemble\\forest.py:246: FutureWarning: The default value of n_estimators will change from 10 in version 0.20 to 100 in 0.22.\n",
      "  \"10 in version 0.20 to 100 in 0.22.\", FutureWarning)\n"
     ]
    },
    {
     "data": {
      "image/png": "[encoded data removed]",
      "text/plain": [
       "<Figure size 576x432 with 1 Axes>"
      ]
     },
     "metadata": {
      "needs_background": "light"
     },
     "output_type": "display_data"
    }
   ],
   "source": [
    "model = ExtraTreesClassifier()\n",
    "model.fit(X,y)\n",
    "matplotlib.rcParams['figure.figsize'] = (8.0, 6.0)\n",
    "# print(model.feature_importances_) #use inbuilt class feature_importances of tree based classifiers\n",
    "#plot graph of feature importances for better visualization\n",
    "feat_importances = pd.Series(model.feature_importances_, index=X.columns)\n",
    "feat_importances.nlargest(5).plot(kind='barh')\n",
    "plt.show()\n",
    "feat_importances = pd.DataFrame(feat_importances.nlargest(20))\n"
   ]
  },
  {
   "cell_type": "code",
   "execution_count": null,
   "metadata": {},
   "outputs": [],
   "source": [
    "def tree_to_code(tree, feature_names):\n",
    "    tree_ = tree.tree_\n",
    "    feature_name = [\n",
    "        feature_names[i] if i != _tree.TREE_UNDEFINED else \"undefined!\"\n",
    "        for i in tree_.feature\n",
    "    ]\n",
    "#     print(\"def tree({}):\".format(\", \".join(feature_names)))\n",
    "\n",
    "    def recurse(node, depth):\n",
    "        indent = \"  \" * depth\n",
    "        if tree_.feature[node] != _tree.TREE_UNDEFINED:\n",
    "            name = feature_name[node]\n",
    "            threshold = tree_.threshold[node]\n",
    "            print(\"{}if {} <= {} AND:\".format(indent, name, threshold))\n",
    "            recurse(tree_.children_left[node], depth + 1)\n",
    "            print(\"{}else:  # if {} > {}\".format(indent, name, threshold))\n",
    "            recurse(tree_.children_right[node], depth + 1)\n",
    "        else:\n",
    "            print(\"{}return {}\".format(indent, tree_.value[node]))\n",
    "\n",
    "    recurse(0, 1)\n",
    "    \n",
    "from sklearn.tree import _tree\n",
    "\n",
    "tree_to_code(tree_model,names[4:])"
   ]
  }
 ],
 "metadata": {
  "kernelspec": {
   "display_name": "Python 3",
   "language": "python",
   "name": "python3"
  },
  "language_info": {
   "codemirror_mode": {
    "name": "ipython",
    "version": 3
   },
   "file_extension": ".py",
   "mimetype": "text/x-python",
   "name": "python",
   "nbconvert_exporter": "python",
   "pygments_lexer": "ipython3",
   "version": "3.6.7"
  }
 },
 "nbformat": 4,
 "nbformat_minor": 2
}
